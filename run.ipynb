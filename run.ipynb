{
 "cells": [
  {
   "cell_type": "code",
   "execution_count": 3,
   "metadata": {},
   "outputs": [
    {
     "name": "stdout",
     "output_type": "stream",
     "text": [
      "sleep 60\n",
      "  % Total    % Received % Xferd  Average Speed   Time    Time     Time  Current\n",
      "                                 Dload  Upload   Total   Spent    Left  Speed\n",
      "100 17283  100 17283    0     0  56851      0 --:--:-- --:--:-- --:--:-- 56851\n",
      "Traceback (most recent call last):\n",
      "  File \"exe2.py\", line 17, in <module>\n",
      "    driver.find_element_by_css_selector('#mat-checkbox-1 > label:nth-child(1) > div:nth-child(1)').click()\n",
      "  File \"/usr/local/lib/python3.8/dist-packages/selenium/webdriver/remote/webdriver.py\", line 598, in find_element_by_css_selector\n",
      "    return self.find_element(by=By.CSS_SELECTOR, value=css_selector)\n",
      "  File \"/usr/local/lib/python3.8/dist-packages/selenium/webdriver/remote/webdriver.py\", line 976, in find_element\n",
      "    return self.execute(Command.FIND_ELEMENT, {\n",
      "  File \"/usr/local/lib/python3.8/dist-packages/selenium/webdriver/remote/webdriver.py\", line 321, in execute\n",
      "    self.error_handler.check_response(response)\n",
      "  File \"/usr/local/lib/python3.8/dist-packages/selenium/webdriver/remote/errorhandler.py\", line 242, in check_response\n",
      "    raise exception_class(message, screen, stacktrace)\n",
      "selenium.common.exceptions.NoSuchElementException: Message: Unable to locate element: #mat-checkbox-1 > label:nth-child(1) > div:nth-child(1)\n",
      "\n",
      "Traceback (most recent call last):\n",
      "  File \"exe1.py\", line 7, in <module>\n",
      "    driver = webdriver.Firefox(options=options, executable_path=r'/usr/bin/geckodriver')\n",
      "  File \"/usr/local/lib/python3.8/dist-packages/selenium/webdriver/firefox/webdriver.py\", line 170, in __init__\n",
      "    RemoteWebDriver.__init__(\n",
      "  File \"/usr/local/lib/python3.8/dist-packages/selenium/webdriver/remote/webdriver.py\", line 157, in __init__\n",
      "    self.start_session(capabilities, browser_profile)\n",
      "  File \"/usr/local/lib/python3.8/dist-packages/selenium/webdriver/remote/webdriver.py\", line 252, in start_session\n",
      "    response = self.execute(Command.NEW_SESSION, parameters)\n",
      "  File \"/usr/local/lib/python3.8/dist-packages/selenium/webdriver/remote/webdriver.py\", line 321, in execute\n",
      "    self.error_handler.check_response(response)\n",
      "  File \"/usr/local/lib/python3.8/dist-packages/selenium/webdriver/remote/errorhandler.py\", line 242, in check_response\n",
      "    raise exception_class(message, screen, stacktrace)\n",
      "selenium.common.exceptions.WebDriverException: Message: Process unexpectedly closed with status 11\n",
      "\n",
      "sleep 60\n",
      "  % Total    % Received % Xferd  Average Speed   Time    Time     Time  Current\n",
      "                                 Dload  Upload   Total   Spent    Left  Speed\n",
      "100 10203  100 10203    0     0  42336      0 --:--:-- --:--:-- --:--:-- 42336\n",
      "Traceback (most recent call last):\n",
      "  File \"exe2.py\", line 7, in <module>\n",
      "    driver = webdriver.Firefox(options=options, executable_path=r'/usr/bin/geckodriver')\n",
      "  File \"/usr/local/lib/python3.8/dist-packages/selenium/webdriver/firefox/webdriver.py\", line 170, in __init__\n",
      "    RemoteWebDriver.__init__(\n",
      "  File \"/usr/local/lib/python3.8/dist-packages/selenium/webdriver/remote/webdriver.py\", line 157, in __init__\n",
      "    self.start_session(capabilities, browser_profile)\n",
      "  File \"/usr/local/lib/python3.8/dist-packages/selenium/webdriver/remote/webdriver.py\", line 252, in start_session\n",
      "    response = self.execute(Command.NEW_SESSION, parameters)\n",
      "  File \"/usr/local/lib/python3.8/dist-packages/selenium/webdriver/remote/webdriver.py\", line 321, in execute\n",
      "    self.error_handler.check_response(response)\n",
      "  File \"/usr/local/lib/python3.8/dist-packages/selenium/webdriver/remote/errorhandler.py\", line 242, in check_response\n",
      "    raise exception_class(message, screen, stacktrace)\n",
      "selenium.common.exceptions.WebDriverException: Message: Process unexpectedly closed with status 11\n",
      "\n",
      "Traceback (most recent call last):\n",
      "  File \"exe1.py\", line 7, in <module>\n",
      "    driver = webdriver.Firefox(options=options, executable_path=r'/usr/bin/geckodriver')\n",
      "  File \"/usr/local/lib/python3.8/dist-packages/selenium/webdriver/firefox/webdriver.py\", line 170, in __init__\n",
      "    RemoteWebDriver.__init__(\n",
      "  File \"/usr/local/lib/python3.8/dist-packages/selenium/webdriver/remote/webdriver.py\", line 157, in __init__\n",
      "    self.start_session(capabilities, browser_profile)\n",
      "  File \"/usr/local/lib/python3.8/dist-packages/selenium/webdriver/remote/webdriver.py\", line 252, in start_session\n",
      "    response = self.execute(Command.NEW_SESSION, parameters)\n",
      "  File \"/usr/local/lib/python3.8/dist-packages/selenium/webdriver/remote/webdriver.py\", line 321, in execute\n",
      "    self.error_handler.check_response(response)\n",
      "  File \"/usr/local/lib/python3.8/dist-packages/selenium/webdriver/remote/errorhandler.py\", line 242, in check_response\n",
      "    raise exception_class(message, screen, stacktrace)\n",
      "selenium.common.exceptions.WebDriverException: Message: Process unexpectedly closed with status 11\n",
      "\n",
      "sleep 60\n",
      "  % Total    % Received % Xferd  Average Speed   Time    Time     Time  Current\n",
      "                                 Dload  Upload   Total   Spent    Left  Speed\n",
      "100 10203  100 10203    0     0  42161      0 --:--:-- --:--:-- --:--:-- 42161\n",
      "Traceback (most recent call last):\n",
      "  File \"exe2.py\", line 7, in <module>\n",
      "    driver = webdriver.Firefox(options=options, executable_path=r'/usr/bin/geckodriver')\n",
      "  File \"/usr/local/lib/python3.8/dist-packages/selenium/webdriver/firefox/webdriver.py\", line 170, in __init__\n",
      "    RemoteWebDriver.__init__(\n",
      "  File \"/usr/local/lib/python3.8/dist-packages/selenium/webdriver/remote/webdriver.py\", line 157, in __init__\n",
      "    self.start_session(capabilities, browser_profile)\n",
      "  File \"/usr/local/lib/python3.8/dist-packages/selenium/webdriver/remote/webdriver.py\", line 252, in start_session\n",
      "    response = self.execute(Command.NEW_SESSION, parameters)\n",
      "  File \"/usr/local/lib/python3.8/dist-packages/selenium/webdriver/remote/webdriver.py\", line 321, in execute\n",
      "    self.error_handler.check_response(response)\n",
      "  File \"/usr/local/lib/python3.8/dist-packages/selenium/webdriver/remote/errorhandler.py\", line 242, in check_response\n",
      "    raise exception_class(message, screen, stacktrace)\n",
      "selenium.common.exceptions.WebDriverException: Message: Process unexpectedly closed with status 11\n",
      "\n",
      "Traceback (most recent call last):\n",
      "  File \"exe1.py\", line 7, in <module>\n",
      "    driver = webdriver.Firefox(options=options, executable_path=r'/usr/bin/geckodriver')\n",
      "  File \"/usr/local/lib/python3.8/dist-packages/selenium/webdriver/firefox/webdriver.py\", line 170, in __init__\n",
      "    RemoteWebDriver.__init__(\n",
      "  File \"/usr/local/lib/python3.8/dist-packages/selenium/webdriver/remote/webdriver.py\", line 157, in __init__\n",
      "    self.start_session(capabilities, browser_profile)\n",
      "  File \"/usr/local/lib/python3.8/dist-packages/selenium/webdriver/remote/webdriver.py\", line 252, in start_session\n",
      "    response = self.execute(Command.NEW_SESSION, parameters)\n",
      "  File \"/usr/local/lib/python3.8/dist-packages/selenium/webdriver/remote/webdriver.py\", line 321, in execute\n",
      "    self.error_handler.check_response(response)\n",
      "  File \"/usr/local/lib/python3.8/dist-packages/selenium/webdriver/remote/errorhandler.py\", line 242, in check_response\n",
      "    raise exception_class(message, screen, stacktrace)\n",
      "selenium.common.exceptions.WebDriverException: Message: Process unexpectedly closed with status 11\n",
      "\n",
      "sleep 60\n",
      "^C\n"
     ]
    }
   ],
   "source": [
    "! while :; do chmod +x run.sh; chmod +x mailsac1; bash run.sh; pkill geckodriver; pkill firefox; sleep 5; done"
   ]
  },
  {
   "cell_type": "code",
   "execution_count": 7,
   "metadata": {},
   "outputs": [
    {
     "name": "stdout",
     "output_type": "stream",
     "text": [
      "  PID TTY          TIME CMD\r\n",
      "    1 ?        00:00:00 ps-run\r\n",
      "    3 ?        00:00:00 sh\r\n",
      "    5 ?        00:00:00 sh\r\n",
      "    6 ?        00:00:00 entrypoint.sh\r\n",
      "   18 ?        00:00:01 jupyter-noteboo\r\n",
      "   24 ?        00:00:10 python3\r\n",
      " 2029 pts/0    00:00:00 sh\r\n",
      " 2030 pts/0    00:00:00 ps\r\n"
     ]
    }
   ],
   "source": [
    "! ps -A"
   ]
  }
 ],
 "metadata": {
  "kernelspec": {
   "display_name": "Python 3",
   "language": "python",
   "name": "python3"
  },
  "language_info": {
   "codemirror_mode": {
    "name": "ipython",
    "version": 3
   },
   "file_extension": ".py",
   "mimetype": "text/x-python",
   "name": "python",
   "nbconvert_exporter": "python",
   "pygments_lexer": "ipython3",
   "version": "3.8.10"
  }
 },
 "nbformat": 4,
 "nbformat_minor": 4
}
